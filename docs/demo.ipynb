{
 "cells": [
  {
   "attachments": {},
   "cell_type": "markdown",
   "id": "b245c256-bc16-4d3a-8062-dd4cba575e27",
   "metadata": {},
   "source": [
    "# Demonstration of stroke-lifetime\n",
    "\n",
    "This notebook:\n",
    "+ runs through the minimal amount of code to run the `stroke-lifetime` models.\n",
    "+ describes what each result contains.\n",
    "+ shows how to pick out the most useful results.\n",
    "+ shows an example of running the code for multiple patients.\n",
    "\n",
    "The code in a nutshell:\n",
    "1. Load some fixed parameters (constant values).\n",
    "2. Select the patient details. The models need to know the patient's age, sex, and mRS score on discharge from hospital following a stroke.\n",
    "3. Pass the fixed parameters and patient details into a \"main calculations\" function.\n",
    "4. Return a dictionary of the results.\n",
    "\n",
    "For details about the maths behind how the results are calculated, look at:\n",
    "+ [![Open in Streamlit][streamlit-img]][streamlit-link] The Streamlit app, which shows the method and an example for each main result.\n",
    "+ The main methods paper, which is currently submitted but not yet published and linkable here (as of June 2024).\n",
    "\n",
    "[streamlit-img]: https://static.streamlit.io/badges/streamlit_badge_black_white.svg\n",
    "[streamlit-link]: https://lifetime-stroke-outcome.streamlit.app/\n",
    "\n",
    "\n",
    "Some acronyms used in the code:\n",
    "\n",
    "| Acronym | Meaning |\n",
    "| --- | --- |\n",
    "| LP | Linear Predictor |\n",
    "| GZ | Gompertz model |\n",
    "| QALY | Quality-Adjusted Life Year |\n",
    "| AE | Accident & Emergency |\n",
    "| NEL | Non-elective bed days |\n",
    "| EL | Elective bed days |\n",
    "\n",
    "### Separate-mRS vs dichotomous model\n",
    "\n",
    "The exact same code is used to calculate results for discrete mRS values from 0 to 5 and to calculate results for a dichotomous regime.\n",
    "\n",
    "In the dichotomous model, the mRS values are assigned a label:\n",
    "+ mRS 0, 1, 2 are \"independent\"\n",
    "+ mRS 3, 4, 5 are \"dependent\"\n",
    "\n",
    "To find results for the \"independent\" group, set mRS to any of 0, 1, and 2. Any parameters that depend on mRS score are the same for all three mRS bands. Similarly for the \"dependent\" group, it doesn't matter whether the mRS is set to 3, 4, or 5.\n",
    "\n",
    "The methods are exactly the same between the separate-mRS and the dichotomous models. The only differences are the fixed parameters that are used in the calculations.\n",
    "\n",
    "### Installing the code\n",
    "\n",
    "To install the `stroke-lifetime` package, run the following line in the terminal:\n",
    "\n",
    "    pip install stroke-lifetime\n",
    "\n"
   ]
  },
  {
   "cell_type": "markdown",
   "id": "c77cdbc4-526f-4b2e-a6e3-00629b7da1d8",
   "metadata": {},
   "source": [
    "## Setup for notebook"
   ]
  },
  {
   "cell_type": "code",
   "execution_count": 1,
   "id": "3f67ddcf-c7ec-45c4-ab6e-aa327d7e1e7d",
   "metadata": {},
   "outputs": [],
   "source": [
    "# Generic packages:\n",
    "import pandas as pd              # Display tables nicely.\n",
    "from numpy import ceil           # Round up a number.\n",
    "import matplotlib.pyplot as plt  # Plotting."
   ]
  },
  {
   "cell_type": "code",
   "execution_count": 2,
   "id": "2ad7b78a-31dd-4d61-8040-79a2d83e6a11",
   "metadata": {},
   "outputs": [],
   "source": [
    "# Imports for stroke-lifetime:\n",
    "\n",
    "# Function to import fixed params for either mRS or dicho model:\n",
    "from stroke_lifetime.fixed_params import get_fixed_params\n",
    "# Main function for calculating lifetime results:\n",
    "from stroke_lifetime.main_calculations import main_calculations"
   ]
  },
  {
   "cell_type": "markdown",
   "id": "5713d454-fd06-4082-bf74-1f8a4f9314fd",
   "metadata": {},
   "source": [
    "## 1. Load the fixed parameters"
   ]
  },
  {
   "attachments": {},
   "cell_type": "markdown",
   "id": "4c6fd117-ca0d-4a2e-8532-3a21a2ff4b0e",
   "metadata": {},
   "source": [
    "The fixed parameters are stored in a dictionary.\n",
    "\n",
    "The dictionary is loaded via a function because the parameters used depend on whether we're using the separate-mRS or the dichotomous model.\n",
    "\n",
    "Import both sets of fixed parameters and display them:"
   ]
  },
  {
   "cell_type": "code",
   "execution_count": 3,
   "id": "80df7764-210c-467d-ac85-44a410384ef0",
   "metadata": {},
   "outputs": [
    {
     "data": {
      "text/html": [
       "<div>\n",
       "<style scoped>\n",
       "    .dataframe tbody tr th:only-of-type {\n",
       "        vertical-align: middle;\n",
       "    }\n",
       "\n",
       "    .dataframe tbody tr th {\n",
       "        vertical-align: top;\n",
       "    }\n",
       "\n",
       "    .dataframe thead th {\n",
       "        text-align: right;\n",
       "    }\n",
       "</style>\n",
       "<table border=\"1\" class=\"dataframe\">\n",
       "  <thead>\n",
       "    <tr style=\"text-align: right;\">\n",
       "      <th></th>\n",
       "      <th>mRS</th>\n",
       "      <th>Dichotomous</th>\n",
       "    </tr>\n",
       "  </thead>\n",
       "  <tbody>\n",
       "    <tr>\n",
       "      <th>time_max_post_discharge_year</th>\n",
       "      <td>50</td>\n",
       "      <td>50</td>\n",
       "    </tr>\n",
       "    <tr>\n",
       "      <th>qaly_age_coeff</th>\n",
       "      <td>0.000259</td>\n",
       "      <td>0.000259</td>\n",
       "    </tr>\n",
       "    <tr>\n",
       "      <th>qaly_age2_coeff</th>\n",
       "      <td>0.000033</td>\n",
       "      <td>0.000033</td>\n",
       "    </tr>\n",
       "    <tr>\n",
       "      <th>qaly_sex_coeff</th>\n",
       "      <td>0.021213</td>\n",
       "      <td>0.021213</td>\n",
       "    </tr>\n",
       "    <tr>\n",
       "      <th>discount_factor_QALYs_perc</th>\n",
       "      <td>3.5</td>\n",
       "      <td>3.5</td>\n",
       "    </tr>\n",
       "    <tr>\n",
       "      <th>discount_factor_costs_perc</th>\n",
       "      <td>3.5</td>\n",
       "      <td>3.5</td>\n",
       "    </tr>\n",
       "    <tr>\n",
       "      <th>wtp_qaly_gpb</th>\n",
       "      <td>20000</td>\n",
       "      <td>20000</td>\n",
       "    </tr>\n",
       "    <tr>\n",
       "      <th>cost_ae_gbp</th>\n",
       "      <td>170.46</td>\n",
       "      <td>170.46</td>\n",
       "    </tr>\n",
       "    <tr>\n",
       "      <th>cost_elective_bed_day_gbp</th>\n",
       "      <td>443.8</td>\n",
       "      <td>443.8</td>\n",
       "    </tr>\n",
       "    <tr>\n",
       "      <th>cost_non_elective_bed_day_gbp</th>\n",
       "      <td>532.56</td>\n",
       "      <td>532.56</td>\n",
       "    </tr>\n",
       "    <tr>\n",
       "      <th>cost_residential_day_gbp</th>\n",
       "      <td>102.71</td>\n",
       "      <td>102.71</td>\n",
       "    </tr>\n",
       "    <tr>\n",
       "      <th>n_patients_care_home</th>\n",
       "      <td>[1, 3, 3, 32, 109, 26]</td>\n",
       "      <td>[1, 3, 3, 32, 109, 26]</td>\n",
       "    </tr>\n",
       "    <tr>\n",
       "      <th>n_patients_not_care_home</th>\n",
       "      <td>[125, 302, 325, 285, 130, 15]</td>\n",
       "      <td>[125, 302, 325, 285, 130, 15]</td>\n",
       "    </tr>\n",
       "    <tr>\n",
       "      <th>n_patients_care_home_over70</th>\n",
       "      <td>[28, 94, 24]</td>\n",
       "      <td>[28, 94, 24]</td>\n",
       "    </tr>\n",
       "    <tr>\n",
       "      <th>n_patients_not_care_home_over70</th>\n",
       "      <td>[245, 190, 34]</td>\n",
       "      <td>[245, 190, 34]</td>\n",
       "    </tr>\n",
       "    <tr>\n",
       "      <th>n_patients_care_home_not_over70</th>\n",
       "      <td>[4, 15, 2]</td>\n",
       "      <td>[4, 15, 2]</td>\n",
       "    </tr>\n",
       "    <tr>\n",
       "      <th>n_patients_not_care_home_not_over70</th>\n",
       "      <td>[72, 49, 7]</td>\n",
       "      <td>[72, 49, 7]</td>\n",
       "    </tr>\n",
       "    <tr>\n",
       "      <th>perc_care_home_all_ages</th>\n",
       "      <td>[0.007936507936507936, 0.009836065573770493, 0.009146341463414634, 0.10094637223974763, 0.4560669456066946, 0.6341463414634146]</td>\n",
       "      <td>[0.00922266139657444, 0.00922266139657444, 0.00922266139657444, 0.2797319932998325, 0.2797319932998325, 0.2797319932998325]</td>\n",
       "    </tr>\n",
       "    <tr>\n",
       "      <th>perc_care_home_over70</th>\n",
       "      <td>[0.007936507936507936, 0.009836065573770493, 0.009146341463414634, 0.11428571428571428, 0.49473684210526314, 0.7058823529411765]</td>\n",
       "      <td>[0.00922266139657444, 0.00922266139657444, 0.00922266139657444, 0.23739837398373984, 0.23739837398373984, 0.23739837398373984]</td>\n",
       "    </tr>\n",
       "    <tr>\n",
       "      <th>perc_care_home_not_over70</th>\n",
       "      <td>[0.007936507936507936, 0.009836065573770493, 0.009146341463414634, 0.05555555555555555, 0.30612244897959184, 0.2857142857142857]</td>\n",
       "      <td>[0.00922266139657444, 0.00922266139657444, 0.00922266139657444, 0.14093959731543623, 0.14093959731543623, 0.14093959731543623]</td>\n",
       "    </tr>\n",
       "    <tr>\n",
       "      <th>utility_list</th>\n",
       "      <td>[0.95, 0.93, 0.83, 0.62, 0.42, 0.11]</td>\n",
       "      <td>[0.86, 0.86, 0.86, 0.43, 0.43, 0.43]</td>\n",
       "    </tr>\n",
       "    <tr>\n",
       "      <th>lg_coeffs</th>\n",
       "      <td>[-4.235428, 0.0663151, 0.2757525, 0.0, 0.9538716, 1.259014, 2.477345, 3.739959, 4.944438]</td>\n",
       "      <td>[-3.172763, 0.068276, 0.1344353, 0.0, 0.0, 0.0, 2.202913, 2.202913, 2.202913]</td>\n",
       "    </tr>\n",
       "    <tr>\n",
       "      <th>lg_mean_ages</th>\n",
       "      <td>[67.09161, 67.98058, 72.85753, 76.48837, 78.56029, 80.91837]</td>\n",
       "      <td>[70.06683, 70.06683, 70.06683, 78.21609, 78.21609, 78.21609]</td>\n",
       "    </tr>\n",
       "    <tr>\n",
       "      <th>gz_coeffs</th>\n",
       "      <td>[-9.317337, 0.0533406, 0.0002026, 0.0873645, 0.0, -0.004399, -0.001777, 0.0058719, 0.0033625, -0.124118, 0.0, 0.1234595, 0.537909, 1.01626, 1.302992, 2.513704]</td>\n",
       "      <td>[-8.720822, -0.013376, 0.0006541, 0.0944971, 0.0, 0.0, 0.0, 0.0027337, 0.0027337, 0.0027337, 0.0, 0.0, 0.0, 0.3514468, 0.3514468, 0.3514468]</td>\n",
       "    </tr>\n",
       "    <tr>\n",
       "      <th>gz_gamma</th>\n",
       "      <td>0.000183</td>\n",
       "      <td>0.000164</td>\n",
       "    </tr>\n",
       "    <tr>\n",
       "      <th>gz_mean_age</th>\n",
       "      <td>73.7324</td>\n",
       "      <td>73.7324</td>\n",
       "    </tr>\n",
       "    <tr>\n",
       "      <th>ae_coeffs</th>\n",
       "      <td>[-0.0691459, -0.0049821, 0.0791412, 0.8167258]</td>\n",
       "      <td>[-0.0642146, -0.0049919, 0.0857713, 0.8160829]</td>\n",
       "    </tr>\n",
       "    <tr>\n",
       "      <th>ae_mRS</th>\n",
       "      <td>[0.0, 0.1534326, -0.1125641, -0.4519718, -0.3794212, -0.3181142]</td>\n",
       "      <td>[0.0, 0.0, 0.0, -0.4333583, -0.4333583, -0.4333583]</td>\n",
       "    </tr>\n",
       "    <tr>\n",
       "      <th>nel_coeffs</th>\n",
       "      <td>[-1.334001, -0.0248403, 0.2965771, 0.1616682]</td>\n",
       "      <td>[-1.611057, -0.0249443, 0.293765, 0.1624848]</td>\n",
       "    </tr>\n",
       "    <tr>\n",
       "      <th>nel_mRS</th>\n",
       "      <td>[0.0, -0.0467482, -0.4899248, -1.152301, -1.298562, -0.6243521]</td>\n",
       "      <td>[0.0, 0.0, 0.0, -0.9156318, -0.9156318, -0.9156318]</td>\n",
       "    </tr>\n",
       "    <tr>\n",
       "      <th>el_coeffs</th>\n",
       "      <td>[1.273549, -0.0081321, -0.0773456, 0.8516285]</td>\n",
       "      <td>[0.5616489, -0.0071193, -0.0930076, 0.8694792]</td>\n",
       "    </tr>\n",
       "    <tr>\n",
       "      <th>el_mRS</th>\n",
       "      <td>[0.0, -0.7987555, -0.8763055, -0.1613053, 0.1961125, -1.72541]</td>\n",
       "      <td>[0.0, 0.0, 0.0, 0.6038344, 0.6038344, 0.6038344]</td>\n",
       "    </tr>\n",
       "  </tbody>\n",
       "</table>\n",
       "</div>"
      ],
      "text/plain": [
       "                                                                                                                                                                                                 mRS  \\\n",
       "time_max_post_discharge_year                                                                                                                                                                      50   \n",
       "qaly_age_coeff                                                                                                                                                                              0.000259   \n",
       "qaly_age2_coeff                                                                                                                                                                             0.000033   \n",
       "qaly_sex_coeff                                                                                                                                                                              0.021213   \n",
       "discount_factor_QALYs_perc                                                                                                                                                                       3.5   \n",
       "discount_factor_costs_perc                                                                                                                                                                       3.5   \n",
       "wtp_qaly_gpb                                                                                                                                                                                   20000   \n",
       "cost_ae_gbp                                                                                                                                                                                   170.46   \n",
       "cost_elective_bed_day_gbp                                                                                                                                                                      443.8   \n",
       "cost_non_elective_bed_day_gbp                                                                                                                                                                 532.56   \n",
       "cost_residential_day_gbp                                                                                                                                                                      102.71   \n",
       "n_patients_care_home                                                                                                                                                          [1, 3, 3, 32, 109, 26]   \n",
       "n_patients_not_care_home                                                                                                                                               [125, 302, 325, 285, 130, 15]   \n",
       "n_patients_care_home_over70                                                                                                                                                             [28, 94, 24]   \n",
       "n_patients_not_care_home_over70                                                                                                                                                       [245, 190, 34]   \n",
       "n_patients_care_home_not_over70                                                                                                                                                           [4, 15, 2]   \n",
       "n_patients_not_care_home_not_over70                                                                                                                                                      [72, 49, 7]   \n",
       "perc_care_home_all_ages                                              [0.007936507936507936, 0.009836065573770493, 0.009146341463414634, 0.10094637223974763, 0.4560669456066946, 0.6341463414634146]   \n",
       "perc_care_home_over70                                               [0.007936507936507936, 0.009836065573770493, 0.009146341463414634, 0.11428571428571428, 0.49473684210526314, 0.7058823529411765]   \n",
       "perc_care_home_not_over70                                           [0.007936507936507936, 0.009836065573770493, 0.009146341463414634, 0.05555555555555555, 0.30612244897959184, 0.2857142857142857]   \n",
       "utility_list                                                                                                                                                    [0.95, 0.93, 0.83, 0.62, 0.42, 0.11]   \n",
       "lg_coeffs                                                                                                  [-4.235428, 0.0663151, 0.2757525, 0.0, 0.9538716, 1.259014, 2.477345, 3.739959, 4.944438]   \n",
       "lg_mean_ages                                                                                                                            [67.09161, 67.98058, 72.85753, 76.48837, 78.56029, 80.91837]   \n",
       "gz_coeffs                            [-9.317337, 0.0533406, 0.0002026, 0.0873645, 0.0, -0.004399, -0.001777, 0.0058719, 0.0033625, -0.124118, 0.0, 0.1234595, 0.537909, 1.01626, 1.302992, 2.513704]   \n",
       "gz_gamma                                                                                                                                                                                    0.000183   \n",
       "gz_mean_age                                                                                                                                                                                  73.7324   \n",
       "ae_coeffs                                                                                                                                             [-0.0691459, -0.0049821, 0.0791412, 0.8167258]   \n",
       "ae_mRS                                                                                                                              [0.0, 0.1534326, -0.1125641, -0.4519718, -0.3794212, -0.3181142]   \n",
       "nel_coeffs                                                                                                                                             [-1.334001, -0.0248403, 0.2965771, 0.1616682]   \n",
       "nel_mRS                                                                                                                              [0.0, -0.0467482, -0.4899248, -1.152301, -1.298562, -0.6243521]   \n",
       "el_coeffs                                                                                                                                              [1.273549, -0.0081321, -0.0773456, 0.8516285]   \n",
       "el_mRS                                                                                                                                [0.0, -0.7987555, -0.8763055, -0.1613053, 0.1961125, -1.72541]   \n",
       "\n",
       "                                                                                                                                                                      Dichotomous  \n",
       "time_max_post_discharge_year                                                                                                                                                   50  \n",
       "qaly_age_coeff                                                                                                                                                           0.000259  \n",
       "qaly_age2_coeff                                                                                                                                                          0.000033  \n",
       "qaly_sex_coeff                                                                                                                                                           0.021213  \n",
       "discount_factor_QALYs_perc                                                                                                                                                    3.5  \n",
       "discount_factor_costs_perc                                                                                                                                                    3.5  \n",
       "wtp_qaly_gpb                                                                                                                                                                20000  \n",
       "cost_ae_gbp                                                                                                                                                                170.46  \n",
       "cost_elective_bed_day_gbp                                                                                                                                                   443.8  \n",
       "cost_non_elective_bed_day_gbp                                                                                                                                              532.56  \n",
       "cost_residential_day_gbp                                                                                                                                                   102.71  \n",
       "n_patients_care_home                                                                                                                                       [1, 3, 3, 32, 109, 26]  \n",
       "n_patients_not_care_home                                                                                                                            [125, 302, 325, 285, 130, 15]  \n",
       "n_patients_care_home_over70                                                                                                                                          [28, 94, 24]  \n",
       "n_patients_not_care_home_over70                                                                                                                                    [245, 190, 34]  \n",
       "n_patients_care_home_not_over70                                                                                                                                        [4, 15, 2]  \n",
       "n_patients_not_care_home_not_over70                                                                                                                                   [72, 49, 7]  \n",
       "perc_care_home_all_ages                               [0.00922266139657444, 0.00922266139657444, 0.00922266139657444, 0.2797319932998325, 0.2797319932998325, 0.2797319932998325]  \n",
       "perc_care_home_over70                              [0.00922266139657444, 0.00922266139657444, 0.00922266139657444, 0.23739837398373984, 0.23739837398373984, 0.23739837398373984]  \n",
       "perc_care_home_not_over70                          [0.00922266139657444, 0.00922266139657444, 0.00922266139657444, 0.14093959731543623, 0.14093959731543623, 0.14093959731543623]  \n",
       "utility_list                                                                                                                                 [0.86, 0.86, 0.86, 0.43, 0.43, 0.43]  \n",
       "lg_coeffs                                                                                           [-3.172763, 0.068276, 0.1344353, 0.0, 0.0, 0.0, 2.202913, 2.202913, 2.202913]  \n",
       "lg_mean_ages                                                                                                         [70.06683, 70.06683, 70.06683, 78.21609, 78.21609, 78.21609]  \n",
       "gz_coeffs                            [-8.720822, -0.013376, 0.0006541, 0.0944971, 0.0, 0.0, 0.0, 0.0027337, 0.0027337, 0.0027337, 0.0, 0.0, 0.0, 0.3514468, 0.3514468, 0.3514468]  \n",
       "gz_gamma                                                                                                                                                                 0.000164  \n",
       "gz_mean_age                                                                                                                                                               73.7324  \n",
       "ae_coeffs                                                                                                                          [-0.0642146, -0.0049919, 0.0857713, 0.8160829]  \n",
       "ae_mRS                                                                                                                        [0.0, 0.0, 0.0, -0.4333583, -0.4333583, -0.4333583]  \n",
       "nel_coeffs                                                                                                                           [-1.611057, -0.0249443, 0.293765, 0.1624848]  \n",
       "nel_mRS                                                                                                                       [0.0, 0.0, 0.0, -0.9156318, -0.9156318, -0.9156318]  \n",
       "el_coeffs                                                                                                                          [0.5616489, -0.0071193, -0.0930076, 0.8694792]  \n",
       "el_mRS                                                                                                                           [0.0, 0.0, 0.0, 0.6038344, 0.6038344, 0.6038344]  "
      ]
     },
     "metadata": {},
     "output_type": "display_data"
    }
   ],
   "source": [
    "# Place fixed parameters in this DataFrame:\n",
    "df_fixed_params = pd.DataFrame()\n",
    "df_fixed_params['mRS'] = pd.Series(get_fixed_params('mRS'))\n",
    "df_fixed_params['Dichotomous'] = pd.Series(get_fixed_params('Dichotomous'))\n",
    "\n",
    "# Display the DataFrame in this roundabout way to view wider columns\n",
    "# and so not cut off lists:\n",
    "with pd.option_context('display.max_colwidth', 200):\n",
    "    display(df_fixed_params)"
   ]
  },
  {
   "cell_type": "markdown",
   "id": "24c6eeb7-cdaf-4758-929d-35270b4830d6",
   "metadata": {},
   "source": [
    "## 2. Select the patient details\n",
    "\n",
    "We need to select values for the following parameters:\n",
    "\n",
    "| Parameter | Type | Comment |\n",
    "| --- | --- | --- |\n",
    "| age            | float or int. | Patient's age in years. |\n",
    "| sex            | int. | Patient's sex, 0 for female and 1 for male. |\n",
    "| sex_str        | str. | Either \"Male\" or \"Female\". |\n",
    "| mrs            | int. | Patient's mRS score from 0 to 5. |\n",
    "| fixed_params   | dict. | Contains fixed parameters independent of the model results. |\n",
    "| model_type_str | str. | Separate \"mRS\" or \"Dichotomous\" model. |\n",
    "\n",
    "Notes:\n",
    "+ 'sex_str' and 'model_type_str' are not used in any calculation. They are stored in the results dictionary to make it clearer which parameters were used to calculate the results.\n"
   ]
  },
  {
   "cell_type": "code",
   "execution_count": 4,
   "id": "bc4f5c27-7b49-462b-9d86-33035f130a71",
   "metadata": {},
   "outputs": [],
   "source": [
    "# Patient details:\n",
    "age = 73\n",
    "sex = 1\n",
    "mrs = 0\n",
    "\n",
    "# Convert the \"sex\" number into something easier to read.\n",
    "sex_str = 'Male' if sex == 1 else 'Female'\n",
    "\n",
    "# Select the model type ('mRS' or 'Dichotomous').\n",
    "model_type_str = 'mRS'\n",
    "\n",
    "# Reload the fixed parameters to make sure they match the model type:\n",
    "fixed_params = get_fixed_params(model_type_str)"
   ]
  },
  {
   "cell_type": "markdown",
   "id": "7b0d6eb9-9350-4427-be48-304f14da7f39",
   "metadata": {},
   "source": [
    "## 3. Main calculations function\n",
    "\n",
    "Use the following function to calculate everything useful for displaying in the app. The function returns a dictionary of useful results."
   ]
  },
  {
   "cell_type": "code",
   "execution_count": 5,
   "id": "07e10b97-0c8d-49e6-9ec9-b251f3fd0422",
   "metadata": {},
   "outputs": [],
   "source": [
    "results_dict = main_calculations(\n",
    "    age,\n",
    "    sex,\n",
    "    sex_str,\n",
    "    mrs,\n",
    "    fixed_params,\n",
    "    model_type_str\n",
    ")"
   ]
  },
  {
   "cell_type": "markdown",
   "id": "9be77475-b25b-46bf-984c-19052dd48a27",
   "metadata": {},
   "source": [
    "Later in this document there is an example for running this function with multiple patients.\n",
    "\n",
    "## 4. Results dictionary details\n",
    "\n",
    "The following tables show the contents of the results dictionary, what they mean, and how they are used.\n",
    "\n",
    "__General:__\n",
    "\n",
    "The results dictionary stores a copy of the inputs to the function:\n",
    "\n",
    "| Key | dtype | Description | Use |\n",
    "| --- | --- | --- | --- |\n",
    "|    age            | `float` or `int` | Patient's age in years. | Parameter for models. |\n",
    "|    sex            | `int` | Patient's sex, 0 for female and 1 for male. | Parameter for models. |\n",
    "|    sex_str        | `str` | Either \"Male\" or \"Female\". | For reference only. |\n",
    "|    mrs            | `int` | Patient's mRS score from 0 to 5. | Parameter for models. |\n",
    "|    fixed_params   | `dict` | Contains fixed parameters independent of the model results. | Parameter for models. |\n",
    "|    model_type_str | `str` | Separate \"mRS\" or \"Dichotomous\" model. | For reference only. |\n",
    "\n",
    "__Mortality:__\n",
    "\n",
    "| Key | dtype | Description | Use |\n",
    "| --- | --- | --- | --- |\n",
    "| death_in_year_1_lp | `float` | Linear Predictor for death in year 1. | Parameter for models. |\n",
    "| death_in_year_1_prob | `float` | Probability of death in year 1 after stroke. | Result. |\n",
    "| death_in_year_n_lp | `float` | Linear Predictor for death in any year \"n\". | Parameter for models. |\n",
    "| years | `list` | The years used for any set of results given \"by year\". Ordinarily runs from 0 to 50 inclusive. | ~Result. |\n",
    "| hazard_by_year | `list` | Hazard probabilities. All values are 1.0 minus \"survival by year\". Usually 50 values. | Result. |\n",
    "| survival_by_year | `list` | Survival probabilities. All values are 1.0 minus \"survival by year\". Usually 50 values. | Result. |\n",
    "| fhazard_by_year | `list` | Some intermediary step to calculating hazard probabilities. Usually 50 values. | Calculation step for models. |\n",
    "| death_in_year_n_probs | `list` | Probability of death during (not \"by\") each year \"n\". Usually 50 values. | Result. |\n",
    "| death_in_year_n_probs_first_invalid_index | `int` | The first index of `death_in_year_n_probs` that is below zero and should not be used. | ~Result. |\n",
    "| survival_median_years | `float` | Median survival time in years. | Result. |\n",
    "| survival_lower_quartile_years | `float` | Lower quartile survival time in years. | Result. |\n",
    "| survival_upper_quartile_years | `float` | Upper quartile survival time in years. | Result. |\n",
    "| life_expectancy | `float` | Life expectancy in years. This is the input age plus the median survival years. | Result. |\n",
    "| year_when_zero_survival | `float` | The time after stroke when survival hits zero. This value is not necessarily a whole number of years. | Result. |\n",
    "\n",
    "\n",
    "__QALYs:__\n",
    "\n",
    "| Key | dtype | Description | Use |\n",
    "| --- | --- | --- | --- |\n",
    "| qalys_total | `float` | Sum of QALYs across each year post-stroke. | Result. |\n",
    "| qalys_by_year | `list` | The QALY for each year of `survival_median_years`. The final value is scaled down to match the proportion of the year that the patient is alive for. | Result. |\n",
    "| raw_qalys_by_year | `list` | The raw QALY for each year as above. The raw QALY is scaled to calculate the final QALY. | Calculation step for models. |\n",
    "\n",
    "\n",
    "__Resources:__\n",
    "\n",
    "| Key | dtype | Description | Use |\n",
    "| --- | --- | --- | --- |\n",
    "| ae_lp | `float` | Linear Predictor for model of A&E admissions. | Parameter for models. |\n",
    "| ae_count | `float` | Total number of A&E admissions over the remaining lifetime. | Result. |\n",
    "| ae_counts_by_year | `list` | Number of A&E admissions for each year over the remaining lifetime. | Calculation step for models. |\n",
    "| ae_discounted_by_year | `list` | Cost of A&E admissions for each year over the remaining lifetime. | Calculation step for models. |\n",
    "| ae_discounted_cost | `float` | Total cost of A&E admissions over the remaining lifetime. | Result. |\n",
    "| nel_lp | `float` | Linear Predictor for model of non-elective bed days. | Parameter for models. |\n",
    "| nel_count | `float` | Total number of non-elective bed days over the remaining lifetime. | Result. |\n",
    "| nel_counts_by_year | `list` | Number of non-elective bed days for each year over the remaining lifetime. | Calculation step for models. |\n",
    "| nel_discounted_by_year | `list` | Cost of non-elective bed days for each year over the remaining lifetime. | Calculation step for models. |\n",
    "| nel_discounted_cost | `float` | Total cost of non-elective bed days over the remaining lifetime. | Result. |\n",
    "| el_lp | `float` | Linear Predictor for model of elective bed days. | Parameter for models. |\n",
    "| el_count | `float` | Total number of elective bed days over the remaining lifetime. | Result. |\n",
    "| el_counts_by_year | `list` | Number of elective bed days for each year over the remaining lifetime. | Calculation step for models. |\n",
    "| el_discounted_by_year | `list` | Cost of elective bed days for each year over the remaining lifetime. | Calculation step for models. |\n",
    "| el_discounted_cost | `float` | Total cost of elective bed days over the remaining lifetime. | Result. |\n",
    "| care_years | `float` | Total average time spent in residential care in years over the remaining lifetime. | Result. |\n",
    "| care_years_by_year | `list` | Average time spent in residential care each year over the remaining lifetime. | Calculation step for models. |\n",
    "| care_years_discounted_by_year | `list` | Cost of average time spent in residential care each year over the remaining lifetime. | Calculation step for models. |\n",
    "| care_years_discounted_cost | `float` | Total cost of time spent in residential care over the remaining lifetime. | Result. |\n",
    "| total_discounted_cost | `float` | Total combined cost of A&E use, NEL days, EL days, and time in residential care, all over the remaining lifetime. | Result. |\n",
    "\n",
    "__Cost:__\n",
    "\n",
    "| Key | dtype | Description | Use |\n",
    "| --- | --- | --- | --- |\n",
    "| net_benefit | `float` | Net cost benefit, which are QALYs valued at the Willingness to Pay (WTP) threshold. | Result. |\n",
    "\n"
   ]
  },
  {
   "cell_type": "markdown",
   "id": "db494c16-bd85-4566-a238-8fd095f3868f",
   "metadata": {},
   "source": [
    "Notes:\n",
    "+ Most \"mortality\" lists have 50 entries because by default the calculations are done for 50 years post-stroke.\n",
    "+ Most \"QALY\" and \"resource use\" lists have one entry for each year in the remaining lifetime (rounded up).\n",
    "\n",
    "In this case the median survival years (remaining lifetime) is:"
   ]
  },
  {
   "cell_type": "code",
   "execution_count": 6,
   "id": "746020b7-09e7-48f1-861f-58248b6d19ed",
   "metadata": {},
   "outputs": [
    {
     "data": {
      "text/plain": [
       "10.702454420630898"
      ]
     },
     "execution_count": 6,
     "metadata": {},
     "output_type": "execute_result"
    }
   ],
   "source": [
    "results_dict['survival_median_years']"
   ]
  },
  {
   "cell_type": "markdown",
   "id": "f28a1e9d-ec5c-4d92-99f4-88119291a9eb",
   "metadata": {},
   "source": [
    "... and so the number of entries in some lists is this value rounded up:"
   ]
  },
  {
   "cell_type": "code",
   "execution_count": 7,
   "id": "684288eb-e1c1-4a7f-bab8-51e1fca8cfd6",
   "metadata": {},
   "outputs": [
    {
     "data": {
      "text/plain": [
       "11.0"
      ]
     },
     "execution_count": 7,
     "metadata": {},
     "output_type": "execute_result"
    }
   ],
   "source": [
    "ceil(results_dict['survival_median_years'])"
   ]
  },
  {
   "attachments": {},
   "cell_type": "markdown",
   "id": "d98fcc8a-fed3-406d-8c91-12a4a9683810",
   "metadata": {},
   "source": [
    "## 5. Example usage of the outputs\n",
    "\n",
    "The following cells show how to make a basic recreation of each part of the Streamlit app.\n",
    "\n",
    "### Mortality\n",
    "\n",
    "Survival over time:"
   ]
  },
  {
   "cell_type": "code",
   "execution_count": null,
   "id": "9332ef2e-35ed-4b03-aba3-2e8a8658025b",
   "metadata": {},
   "outputs": [],
   "source": [
    "fig, ax = plt.subplots()\n",
    "\n",
    "ax.plot(results_dict['years'], results_dict['survival_by_year'])\n",
    "ax.set_xlabel('Years since discharge')\n",
    "ax.set_ylabel('Survival')\n",
    "\n",
    "plt.show()"
   ]
  },
  {
   "cell_type": "markdown",
   "id": "4d0b902a-77fa-418c-94b0-32a3fd55616c",
   "metadata": {},
   "source": [
    "Hazard function:"
   ]
  },
  {
   "cell_type": "code",
   "execution_count": null,
   "id": "d13dc6c7-2251-4f50-bf6a-c0f3020556a2",
   "metadata": {},
   "outputs": [],
   "source": [
    "fig, ax = plt.subplots()\n",
    "\n",
    "ax.plot(results_dict['years'], results_dict['hazard_by_year'])\n",
    "ax.set_xlabel('Years since discharge')\n",
    "ax.set_ylabel('Cumulative hazard')\n",
    "\n",
    "plt.show()"
   ]
  },
  {
   "cell_type": "markdown",
   "id": "13f9af71-531d-4f33-a62e-0b28f44c121e",
   "metadata": {},
   "source": [
    "Probability of death:"
   ]
  },
  {
   "cell_type": "code",
   "execution_count": null,
   "id": "29fbf433-6e5e-4cf8-b677-4658c4e63a78",
   "metadata": {},
   "outputs": [],
   "source": [
    "pDeath = pd.DataFrame(\n",
    "    [results_dict['years'][1:], results_dict['death_in_year_n_probs']],\n",
    "    index=['Year', 'Probability of death during this year']\n",
    ").T.set_index('Year')\n",
    "\n",
    "# Only show a few values:\n",
    "pDeath.head(5)"
   ]
  },
  {
   "cell_type": "markdown",
   "id": "194e280c-7ca5-4059-994a-95ff0049999b",
   "metadata": {},
   "source": [
    "Survival table"
   ]
  },
  {
   "cell_type": "code",
   "execution_count": null,
   "id": "ceefd336-3a4b-4dec-97a1-19725bf9e5f3",
   "metadata": {},
   "outputs": [],
   "source": [
    "print(f\"Median survival (years): {results_dict['survival_median_years']:6.3f}\")\n",
    "print(f\"Lower IQR (years):       {results_dict['survival_lower_quartile_years']:6.3f}\")\n",
    "print(f\"Upper IQR (years):       {results_dict['survival_upper_quartile_years']:6.3f}\")\n",
    "print(f\"Life expectancy (age):   {results_dict['life_expectancy']:6.3f}\")"
   ]
  },
  {
   "cell_type": "markdown",
   "id": "c80b4c69-9d3a-4cbc-94f9-4621cefb3ee8",
   "metadata": {},
   "source": [
    "## QALYS\n",
    "\n",
    "Discounted QALYs table:"
   ]
  },
  {
   "cell_type": "code",
   "execution_count": null,
   "id": "e1b741b1-e9e9-4973-962e-0fcaa1f6c8f1",
   "metadata": {},
   "outputs": [],
   "source": [
    "print(f\"Utility:                 {fixed_params['utility_list'][mrs]:6.3f}\")\n",
    "print(f\"Median survival (years): {results_dict['survival_median_years']:6.3f}\")\n",
    "print(f\"Lower IQR (years):       {results_dict['survival_lower_quartile_years']:6.3f}\")\n",
    "print(f\"Upper IQR (years):       {results_dict['survival_upper_quartile_years']:6.3f}\")\n",
    "print(f\"QALYs:                   {results_dict['qalys_total']:6.3f}\")"
   ]
  },
  {
   "cell_type": "markdown",
   "id": "4adaf54c-57c4-4bdb-a01a-90f9fa5ca2db",
   "metadata": {},
   "source": [
    "## Resources and costs\n",
    "\n",
    "Resource use table:"
   ]
  },
  {
   "cell_type": "code",
   "execution_count": null,
   "id": "8dc51b97-41ab-458a-b9e2-80c090dd0df3",
   "metadata": {},
   "outputs": [],
   "source": [
    "print(f\"A&E:                                      {results_dict['ae_count']:6.3f}\")\n",
    "print(f\"NEL days:                                 {results_dict['nel_count']:6.3f}\")\n",
    "print(f\"EL days:                                  {results_dict['el_count']:6.3f}\")\n",
    "print(f\"Average time in residential care (years): {results_dict['care_years']:6.3f}\")"
   ]
  },
  {
   "cell_type": "markdown",
   "id": "5a01e4de-e813-4e68-bee9-e4e4b0b2e593",
   "metadata": {},
   "source": [
    "Discounted cost of resource use table:"
   ]
  },
  {
   "cell_type": "code",
   "execution_count": null,
   "id": "3908990c-20db-4169-ab05-81e46e550d14",
   "metadata": {},
   "outputs": [],
   "source": [
    "print(f\"A&E:                     £{results_dict['ae_discounted_cost']:9.2f}\")\n",
    "print(f\"NEL days:                £{results_dict['nel_discounted_cost']:9.2f}\")\n",
    "print(f\"EL days:                 £{results_dict['el_discounted_cost']:9.2f}\")\n",
    "print(f\"Cost of residental care: £{results_dict['care_years_discounted_cost']:9.2f}\")\n",
    "print(f\"Total cost:              £{results_dict['total_discounted_cost']:9.2f}\")"
   ]
  },
  {
   "cell_type": "markdown",
   "id": "af7a1597-42c2-4c10-bae1-e83774f34785",
   "metadata": {},
   "source": [
    "## Cost-effectiveness\n",
    "\n",
    "In the app a table of difference of net benefit for different mRS bands is shown. The values behind the table (without differences) are:"
   ]
  },
  {
   "cell_type": "code",
   "execution_count": null,
   "id": "53e896b8-acd3-40ec-b6e4-f38fa1e3e229",
   "metadata": {},
   "outputs": [],
   "source": [
    "print(f\"Net benefit: £{results_dict['net_benefit']:9.2f}\")"
   ]
  },
  {
   "cell_type": "markdown",
   "id": "ab58cdd4-3e92-4f1a-88a2-63855490a6af",
   "metadata": {},
   "source": [
    "## 6. Running multiple patients\n",
    "\n",
    "The `main_calculations()` function has to be run separately for each patient.\n",
    "\n",
    "For example, with patient details stored in a DataFrame:"
   ]
  },
  {
   "cell_type": "code",
   "execution_count": null,
   "id": "e5a14453-69af-4e97-b7ac-6a0eaee2e436",
   "metadata": {},
   "outputs": [],
   "source": [
    "age_range = range(75, 77, 1)\n",
    "model_type_str = 'mRS'\n",
    "\n",
    "# Decide which mRS scores to run:\n",
    "if model_type_str == 'mRS':\n",
    "    mrs_to_run = range(6)\n",
    "else:\n",
    "    # In the dichotomous model we give one set of parameters to\n",
    "    # mRS < 3 and a second set to mRS >=3. So just run two mRS\n",
    "    # values to save repeats.\n",
    "    mrs_to_run = [0, 5]\n",
    "\n",
    "# Add mRS=6 to this list to demonstrate the results for invalid inputs:\n",
    "mrs_to_run = [6] + list(mrs_to_run)\n",
    "\n",
    "# Store patients in here:\n",
    "patient_df = pd.DataFrame(columns=[\n",
    "    'age', 'sex', 'sex_label', 'mrs', 'outcome_type'])\n",
    "count = 0\n",
    "for age in age_range:\n",
    "    for sex in [0, 1]:\n",
    "        sex_label = 'Male' if sex == 1 else 'Female'\n",
    "        for mrs in mrs_to_run:\n",
    "            # Use the mRS score to label this patient as independent or\n",
    "            # dependent in the dichotomous model.\n",
    "            outcome_type = 'Dependent' if mrs > 2 else 'Independent'\n",
    "\n",
    "            patient_df.loc[count] = [\n",
    "                age, sex, sex_label, mrs, outcome_type]\n",
    "            count += 1"
   ]
  },
  {
   "cell_type": "code",
   "execution_count": null,
   "id": "8aa91b40-0212-44ae-a7af-ffa50d8f00fd",
   "metadata": {},
   "outputs": [],
   "source": [
    "# Only show a few values:\n",
    "patient_df.head(5)"
   ]
  },
  {
   "cell_type": "markdown",
   "id": "c45b86ba-7611-4704-8b8d-f64882d80a3d",
   "metadata": {},
   "source": [
    "The main calculations function can be looped over like this:"
   ]
  },
  {
   "cell_type": "code",
   "execution_count": null,
   "id": "735b9964-416f-47d9-b7b8-207985cf92a6",
   "metadata": {},
   "outputs": [],
   "source": [
    "# Get the fixed parameters dictionary.\n",
    "# This is found via a function because the parameters used\n",
    "# depend on whether we're using the separate-mRS or the dichotomous\n",
    "# model.\n",
    "fixed_params = get_fixed_params(model_type_str)\n",
    "\n",
    "# Store results dictionaries in here:\n",
    "results_dict_list = []\n",
    "\n",
    "# Run each patient separately:\n",
    "for p in patient_df.index:\n",
    "    patient = patient_df.loc[p]\n",
    "\n",
    "    # This is the same code as in \"2_Interactive_demo.py\".\n",
    "    results_dict = main_calculations(\n",
    "        patient['age'],\n",
    "        patient['sex'],\n",
    "        patient['sex_label'],\n",
    "        patient['mrs'],\n",
    "        fixed_params,\n",
    "        model_type_str\n",
    "        )\n",
    "    # Store this dictionary in the list of dicts:\n",
    "    results_dict_list.append(results_dict)\n",
    "\n",
    "# Turn all results dictionaries into a single data frame:\n",
    "df = pd.DataFrame(results_dict_list, index=patient_df.index)"
   ]
  },
  {
   "cell_type": "code",
   "execution_count": null,
   "id": "b243965b-b250-497b-a074-fd1be00ad95b",
   "metadata": {},
   "outputs": [],
   "source": [
    "# Only show a few values:\n",
    "df.head(3).T"
   ]
  },
  {
   "cell_type": "markdown",
   "id": "c08126db-a847-44f8-a7b1-5fda25a80913",
   "metadata": {},
   "source": [
    "The first patient in this example returns empty lists and Not A Number (NaN) data because the inputs were invalid. The model does not perform any calculations for the input mRS=6."
   ]
  }
 ],
 "metadata": {
  "kernelspec": {
   "display_name": "Python 3 (ipykernel)",
   "language": "python",
   "name": "python3"
  },
  "language_info": {
   "codemirror_mode": {
    "name": "ipython",
    "version": 3
   },
   "file_extension": ".py",
   "mimetype": "text/x-python",
   "name": "python",
   "nbconvert_exporter": "python",
   "pygments_lexer": "ipython3",
   "version": "3.12.3"
  }
 },
 "nbformat": 4,
 "nbformat_minor": 5
}
